{
 "cells": [
  {
   "cell_type": "code",
   "execution_count": 1,
   "metadata": {},
   "outputs": [],
   "source": [
    "import numpy as np\n",
    "import cv2 as cv\n",
    "import matplotlib.pyplot as plt\n",
    "import speech_recognition as sr\n",
    "import gtts\n",
    "from gtts import gTTS\n",
    "import os\n",
    "%matplotlib inline\n"
   ]
  },
  {
   "cell_type": "code",
   "execution_count": null,
   "metadata": {},
   "outputs": [],
   "source": [
    "tts=gTTS(text=\"My name is shivamjeet singh. i am from varanasi.i am persuing my B.tech at iec college in greater noida\",lang='it')\n",
    "tts.save(\"hello.mp3\")\n",
    "os.system(\"hello.mp3\")\n",
    "os.remove(\"hello.mp3\")"
   ]
  },
  {
   "cell_type": "code",
   "execution_count": null,
   "metadata": {},
   "outputs": [],
   "source": [
    "''''r=sr.Recognizer()\n",
    "with sr.Microphone() as source:\n",
    "    print(\"say something:\")\n",
    "    audio=r.listen(source)\n",
    "try:\n",
    "    print(\"system predicts:\",r.reconize_google(audio))\n",
    "except:\n",
    "     print(\"something is wrong\") "
   ]
  },
  {
   "cell_type": "code",
   "execution_count": null,
   "metadata": {},
   "outputs": [],
   "source": [
    "r=sr.Recognizer()\n",
    "with sr.Microphone() as source:\n",
    "    print(\"say something:\")\n",
    "    audio=r.listen(source)\n",
    "try:\n",
    "    print(\"system predicts:\",r.reconize_google(audio))\n",
    "except:\n",
    "     print(\"something is wrong\") "
   ]
  },
  {
   "cell_type": "code",
   "execution_count": null,
   "metadata": {},
   "outputs": [],
   "source": []
  }
 ],
 "metadata": {
  "kernelspec": {
   "display_name": "Python 3",
   "language": "python",
   "name": "python3"
  },
  "language_info": {
   "codemirror_mode": {
    "name": "ipython",
    "version": 3
   },
   "file_extension": ".py",
   "mimetype": "text/x-python",
   "name": "python",
   "nbconvert_exporter": "python",
   "pygments_lexer": "ipython3",
   "version": "3.7.3"
  }
 },
 "nbformat": 4,
 "nbformat_minor": 2
}
